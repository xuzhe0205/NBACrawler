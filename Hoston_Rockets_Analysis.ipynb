{
 "cells": [
  {
   "cell_type": "markdown",
   "metadata": {},
   "source": [
    "<div style=\"text-align: right\">INFO 6105 Data Science Eng Methods and Tools</div>\n",
    "<div style=\"text-align: right\">Zhe Xu, Yixin Guo, 20 February 2019</div>\n",
    "\n",
    "# Assignment 5: Data science and analysis on Houston Rockets\n",
    "-----------------------\n"
   ]
  },
  {
   "cell_type": "markdown",
   "metadata": {},
   "source": [
    "Import python libraries"
   ]
  },
  {
   "cell_type": "code",
   "execution_count": 2,
   "metadata": {},
   "outputs": [],
   "source": [
    "%matplotlib inline\n",
    "import numpy as np\n",
    "import pandas as pd\n",
    "import matplotlib.pylab as plt\n",
    "import seaborn as sns\n",
    "from scipy.optimize import fmin\n",
    "sns.set_context('notebook')\n",
    "import pymc3 as pm\n",
    "from scipy import stats\n",
    "from statsmodels.formula.api import ols\n",
    "RANDOM_SEED = 20190220"
   ]
  },
  {
   "cell_type": "markdown",
   "metadata": {},
   "source": [
    "We download the data for Hoston Rocket 's season 1998-2018, ranging from game played to 3-point made every game. "
   ]
  },
  {
   "cell_type": "code",
   "execution_count": 3,
   "metadata": {
    "scrolled": true
   },
   "outputs": [
    {
     "data": {
      "text/html": [
       "<div>\n",
       "<style scoped>\n",
       "    .dataframe tbody tr th:only-of-type {\n",
       "        vertical-align: middle;\n",
       "    }\n",
       "\n",
       "    .dataframe tbody tr th {\n",
       "        vertical-align: top;\n",
       "    }\n",
       "\n",
       "    .dataframe thead th {\n",
       "        text-align: right;\n",
       "    }\n",
       "</style>\n",
       "<table border=\"1\" class=\"dataframe\">\n",
       "  <thead>\n",
       "    <tr style=\"text-align: right;\">\n",
       "      <th></th>\n",
       "      <th>SEASON</th>\n",
       "      <th>GP</th>\n",
       "      <th>W</th>\n",
       "      <th>L</th>\n",
       "      <th>W%</th>\n",
       "      <th>AST%</th>\n",
       "      <th>REB%</th>\n",
       "      <th>3PM%</th>\n",
       "      <th>3PA%</th>\n",
       "      <th>PTS</th>\n",
       "      <th>...</th>\n",
       "      <th>FTA</th>\n",
       "      <th>FT%</th>\n",
       "      <th>OREB</th>\n",
       "      <th>DREB</th>\n",
       "      <th>REB</th>\n",
       "      <th>AST</th>\n",
       "      <th>STL</th>\n",
       "      <th>BLK</th>\n",
       "      <th>TOV</th>\n",
       "      <th>PF</th>\n",
       "    </tr>\n",
       "  </thead>\n",
       "  <tbody>\n",
       "    <tr>\n",
       "      <th>0</th>\n",
       "      <td>2018</td>\n",
       "      <td>57</td>\n",
       "      <td>33</td>\n",
       "      <td>24</td>\n",
       "      <td>0.578947</td>\n",
       "      <td>20.754386</td>\n",
       "      <td>41.631579</td>\n",
       "      <td>15.596491</td>\n",
       "      <td>44.842105</td>\n",
       "      <td>6449</td>\n",
       "      <td>...</td>\n",
       "      <td>1450</td>\n",
       "      <td>78.2</td>\n",
       "      <td>609</td>\n",
       "      <td>1764</td>\n",
       "      <td>2373</td>\n",
       "      <td>1183</td>\n",
       "      <td>477</td>\n",
       "      <td>302</td>\n",
       "      <td>784</td>\n",
       "      <td>1292</td>\n",
       "    </tr>\n",
       "    <tr>\n",
       "      <th>1</th>\n",
       "      <td>2017</td>\n",
       "      <td>82</td>\n",
       "      <td>65</td>\n",
       "      <td>17</td>\n",
       "      <td>0.792683</td>\n",
       "      <td>21.548780</td>\n",
       "      <td>43.463415</td>\n",
       "      <td>15.317073</td>\n",
       "      <td>42.317073</td>\n",
       "      <td>9213</td>\n",
       "      <td>...</td>\n",
       "      <td>2061</td>\n",
       "      <td>78.1</td>\n",
       "      <td>739</td>\n",
       "      <td>2825</td>\n",
       "      <td>3564</td>\n",
       "      <td>1767</td>\n",
       "      <td>699</td>\n",
       "      <td>392</td>\n",
       "      <td>1135</td>\n",
       "      <td>1597</td>\n",
       "    </tr>\n",
       "    <tr>\n",
       "      <th>2</th>\n",
       "      <td>2016</td>\n",
       "      <td>82</td>\n",
       "      <td>55</td>\n",
       "      <td>27</td>\n",
       "      <td>0.670732</td>\n",
       "      <td>25.243902</td>\n",
       "      <td>44.365854</td>\n",
       "      <td>14.402439</td>\n",
       "      <td>40.317073</td>\n",
       "      <td>9458</td>\n",
       "      <td>...</td>\n",
       "      <td>2177</td>\n",
       "      <td>76.6</td>\n",
       "      <td>892</td>\n",
       "      <td>2746</td>\n",
       "      <td>3638</td>\n",
       "      <td>2070</td>\n",
       "      <td>670</td>\n",
       "      <td>352</td>\n",
       "      <td>1240</td>\n",
       "      <td>1634</td>\n",
       "    </tr>\n",
       "    <tr>\n",
       "      <th>3</th>\n",
       "      <td>2015</td>\n",
       "      <td>82</td>\n",
       "      <td>41</td>\n",
       "      <td>41</td>\n",
       "      <td>0.500000</td>\n",
       "      <td>22.207317</td>\n",
       "      <td>43.060976</td>\n",
       "      <td>10.707317</td>\n",
       "      <td>30.890244</td>\n",
       "      <td>8737</td>\n",
       "      <td>...</td>\n",
       "      <td>2407</td>\n",
       "      <td>69.4</td>\n",
       "      <td>930</td>\n",
       "      <td>2601</td>\n",
       "      <td>3531</td>\n",
       "      <td>1821</td>\n",
       "      <td>821</td>\n",
       "      <td>430</td>\n",
       "      <td>1307</td>\n",
       "      <td>1790</td>\n",
       "    </tr>\n",
       "    <tr>\n",
       "      <th>4</th>\n",
       "      <td>2014</td>\n",
       "      <td>82</td>\n",
       "      <td>56</td>\n",
       "      <td>26</td>\n",
       "      <td>0.682927</td>\n",
       "      <td>22.195122</td>\n",
       "      <td>43.682927</td>\n",
       "      <td>11.378049</td>\n",
       "      <td>32.682927</td>\n",
       "      <td>8522</td>\n",
       "      <td>...</td>\n",
       "      <td>2133</td>\n",
       "      <td>71.5</td>\n",
       "      <td>958</td>\n",
       "      <td>2624</td>\n",
       "      <td>3582</td>\n",
       "      <td>1820</td>\n",
       "      <td>777</td>\n",
       "      <td>407</td>\n",
       "      <td>1366</td>\n",
       "      <td>1803</td>\n",
       "    </tr>\n",
       "  </tbody>\n",
       "</table>\n",
       "<p>5 rows × 27 columns</p>\n",
       "</div>"
      ],
      "text/plain": [
       "   SEASON  GP   W   L        W%       AST%       REB%       3PM%       3PA%  \\\n",
       "0    2018  57  33  24  0.578947  20.754386  41.631579  15.596491  44.842105   \n",
       "1    2017  82  65  17  0.792683  21.548780  43.463415  15.317073  42.317073   \n",
       "2    2016  82  55  27  0.670732  25.243902  44.365854  14.402439  40.317073   \n",
       "3    2015  82  41  41  0.500000  22.207317  43.060976  10.707317  30.890244   \n",
       "4    2014  82  56  26  0.682927  22.195122  43.682927  11.378049  32.682927   \n",
       "\n",
       "    PTS  ...    FTA   FT%  OREB  DREB   REB   AST  STL  BLK   TOV    PF  \n",
       "0  6449  ...   1450  78.2   609  1764  2373  1183  477  302   784  1292  \n",
       "1  9213  ...   2061  78.1   739  2825  3564  1767  699  392  1135  1597  \n",
       "2  9458  ...   2177  76.6   892  2746  3638  2070  670  352  1240  1634  \n",
       "3  8737  ...   2407  69.4   930  2601  3531  1821  821  430  1307  1790  \n",
       "4  8522  ...   2133  71.5   958  2624  3582  1820  777  407  1366  1803  \n",
       "\n",
       "[5 rows x 27 columns]"
      ]
     },
     "execution_count": 3,
     "metadata": {},
     "output_type": "execute_result"
    }
   ],
   "source": [
    "stats = pd.read_csv('data/HoustonRocket.csv', parse_dates=True )\n",
    "stats.head()"
   ]
  },
  {
   "cell_type": "markdown",
   "metadata": {},
   "source": [
    "We select Houston Rockets as our target for its extraordinary Three-Point attempt, so we suppose 3P%(3-point FGs),\n",
    "3PM%(3-point made every game)"
   ]
  },
  {
   "cell_type": "code",
   "execution_count": 5,
   "metadata": {},
   "outputs": [
    {
     "data": {
      "text/plain": [
       "array([34.8, 36.2, 35.7, 34.7, 34.8, 35.8, 36.6, 35.9, 36.7, 35.1, 37.5,\n",
       "       34.2, 37.2, 33.2, 36.4, 36.6, 34.6, 33.5, 35.7, 35.8, 36.8])"
      ]
     },
     "execution_count": 5,
     "metadata": {},
     "output_type": "execute_result"
    }
   ],
   "source": [
    "three=stats['3P%'].values\n",
    "three"
   ]
  },
  {
   "cell_type": "code",
   "execution_count": 6,
   "metadata": {},
   "outputs": [
    {
     "data": {
      "text/plain": [
       "array([44.84210526, 42.31707317, 40.31707317, 30.8902439 , 32.68292683,\n",
       "       26.57317073, 28.8902439 , 20.15151515, 22.47560976, 22.41463415,\n",
       "       20.19512195, 20.81707317, 23.08536585, 17.24390244, 18.54878049,\n",
       "       17.14634146, 15.45121951, 18.04878049, 17.2195122 , 19.81707317,\n",
       "       18.28      ])"
      ]
     },
     "execution_count": 6,
     "metadata": {},
     "output_type": "execute_result"
    }
   ],
   "source": [
    "three_m = stats['3PA%'].values\n",
    "three_m"
   ]
  },
  {
   "cell_type": "markdown",
   "metadata": {},
   "source": [
    "Read  Win percentage"
   ]
  },
  {
   "cell_type": "code",
   "execution_count": 13,
   "metadata": {},
   "outputs": [
    {
     "data": {
      "text/plain": [
       "0     0.578947\n",
       "1     0.792683\n",
       "2     0.670732\n",
       "3     0.500000\n",
       "4     0.682927\n",
       "5     0.658537\n",
       "6     0.548780\n",
       "7     0.515152\n",
       "8     0.524390\n",
       "9     0.512195\n",
       "10    0.646341\n",
       "11    0.670732\n",
       "12    0.634146\n",
       "13    0.414634\n",
       "14    0.621951\n",
       "15    0.548780\n",
       "16    0.524390\n",
       "17    0.341463\n",
       "18    0.548780\n",
       "19    0.414634\n",
       "20    0.620000\n",
       "Name: W%, dtype: float64"
      ]
     },
     "execution_count": 13,
     "metadata": {},
     "output_type": "execute_result"
    }
   ],
   "source": [
    "y= stats[\"W%\"]\n",
    "y"
   ]
  },
  {
   "cell_type": "markdown",
   "metadata": {},
   "source": [
    "Except Three-point, rebound and assist per game are also potential factor for winning games."
   ]
  },
  {
   "cell_type": "code",
   "execution_count": 14,
   "metadata": {
    "scrolled": false
   },
   "outputs": [
    {
     "data": {
      "text/plain": [
       "array([41.63157895, 43.46341463, 44.36585366, 43.06097561, 43.68292683,\n",
       "       45.32926829, 43.42682927, 42.16666667, 42.81707317, 41.97560976,\n",
       "       42.97560976, 44.64634146, 43.32926829, 41.63414634, 42.37804878,\n",
       "       42.6097561 , 43.75609756, 41.90243902, 41.98780488, 43.82926829,\n",
       "       41.52      ])"
      ]
     },
     "execution_count": 14,
     "metadata": {},
     "output_type": "execute_result"
    }
   ],
   "source": [
    "reb = stats['REB%'].values\n",
    "reb"
   ]
  },
  {
   "cell_type": "code",
   "execution_count": 15,
   "metadata": {
    "scrolled": false
   },
   "outputs": [
    {
     "data": {
      "text/plain": [
       "array([20.75438596, 21.54878049, 25.24390244, 22.20731707, 22.19512195,\n",
       "       21.40243902, 23.19512195, 21.27272727, 23.84146341, 21.82926829,\n",
       "       20.26829268, 21.42682927, 20.7804878 , 19.26829268, 21.13414634,\n",
       "       19.25609756, 18.36585366, 18.07317073, 19.67073171, 21.63414634,\n",
       "       21.16      ])"
      ]
     },
     "execution_count": 15,
     "metadata": {},
     "output_type": "execute_result"
    }
   ],
   "source": [
    "ast = stats['AST%'].values\n",
    "ast"
   ]
  },
  {
   "cell_type": "markdown",
   "metadata": {},
   "source": [
    "We will select the parameters that minimize the squared error of the model. Let's write the cost function:"
   ]
  },
  {
   "cell_type": "code",
   "execution_count": 16,
   "metadata": {},
   "outputs": [],
   "source": [
    "sum_of_squares = lambda θ, x, y: np.sum((y - θ[0] - θ[1]*x) ** 2)"
   ]
  },
  {
   "cell_type": "markdown",
   "metadata": {},
   "source": [
    "However, we have the stated objective of minimizing the sum of squares, so we can pass this function to one of several optimizers in SciPy:"
   ]
  },
  {
   "cell_type": "code",
   "execution_count": 17,
   "metadata": {
    "scrolled": true
   },
   "outputs": [
    {
     "name": "stdout",
     "output_type": "stream",
     "text": [
      "Optimization terminated successfully.\n",
      "         Current function value: 0.177297\n",
      "         Iterations: 77\n",
      "         Function evaluations: 141\n"
     ]
    },
    {
     "data": {
      "text/plain": [
       "(-0.8816502249645644, 0.04076610012264577)"
      ]
     },
     "execution_count": 17,
     "metadata": {},
     "output_type": "execute_result"
    }
   ],
   "source": [
    "t0, t1= fmin(sum_of_squares, [0,1], args=(three,y))\n",
    "t0, t1"
   ]
  },
  {
   "cell_type": "markdown",
   "metadata": {},
   "source": [
    "Let's plot"
   ]
  },
  {
   "cell_type": "code",
   "execution_count": 18,
   "metadata": {},
   "outputs": [
    {
     "data": {
      "text/plain": [
       "[<matplotlib.lines.Line2D at 0x1c260b3898>]"
      ]
     },
     "execution_count": 18,
     "metadata": {},
     "output_type": "execute_result"
    },
    {
     "data": {
      "image/png": "[encoded data removed]",
      "text/plain": [
       "<Figure size 576x288 with 1 Axes>"
      ]
     },
     "metadata": {
      "needs_background": "light"
     },
     "output_type": "display_data"
    }
   ],
   "source": [
    "t_x = stats.plot(x='3P%', y='W%', style='ro', figsize=(8,4), legend=True, xlim=(30,50), ylim=(0, 1))\n",
    "t_x.plot([0,100], [t0, t0+t1*100])\n",
    "#for xi, yi in zip(three,win):\n",
    "   # t_x.plot([xi]*2, [yi, t0+t1*xi], 'k:')"
   ]
  },
  {
   "cell_type": "code",
   "execution_count": 19,
   "metadata": {},
   "outputs": [
    {
     "name": "stdout",
     "output_type": "stream",
     "text": [
      "Optimization terminated successfully.\n",
      "         Current function value: 0.189944\n",
      "         Iterations: 27\n",
      "         Function evaluations: 52\n"
     ]
    },
    {
     "data": {
      "text/plain": [
       "(0.0007106682047015063, 0.026890667434778977)"
      ]
     },
     "execution_count": 19,
     "metadata": {},
     "output_type": "execute_result"
    }
   ],
   "source": [
    "a0, a1= fmin(sum_of_squares, [0,1], args=(ast,y))\n",
    "a0, a1"
   ]
  },
  {
   "cell_type": "code",
   "execution_count": 20,
   "metadata": {
    "scrolled": true
   },
   "outputs": [
    {
     "data": {
      "text/plain": [
       "[<matplotlib.lines.Line2D at 0x1c263fada0>]"
      ]
     },
     "execution_count": 20,
     "metadata": {},
     "output_type": "execute_result"
    },
    {
     "data": {
      "image/png": "[encoded data removed]",
      "text/plain": [
       "<Figure size 576x288 with 1 Axes>"
      ]
     },
     "metadata": {
      "needs_background": "light"
     },
     "output_type": "display_data"
    }
   ],
   "source": [
    "a_x = stats.plot(x='AST%',y = 'W%',style = 'ro',figsize=(8,4),legend = True, xlim=(10,30),ylim=(0,1))\n",
    "a_x.plot([0,50], [a0, a0+a1*50])"
   ]
  },
  {
   "cell_type": "code",
   "execution_count": 21,
   "metadata": {
    "scrolled": false
   },
   "outputs": [
    {
     "name": "stdout",
     "output_type": "stream",
     "text": [
      "Optimization terminated successfully.\n",
      "         Current function value: 0.199919\n",
      "         Iterations: 29\n",
      "         Function evaluations: 53\n"
     ]
    },
    {
     "data": {
      "text/plain": [
       "(0.0008418045043945318, 0.013278198242184684)"
      ]
     },
     "execution_count": 21,
     "metadata": {},
     "output_type": "execute_result"
    }
   ],
   "source": [
    "r0, r1= fmin(sum_of_squares, [0,1], args=(reb,y))\n",
    "r0, r1"
   ]
  },
  {
   "cell_type": "code",
   "execution_count": 24,
   "metadata": {
    "scrolled": true
   },
   "outputs": [
    {
     "data": {
      "text/plain": [
       "[<matplotlib.lines.Line2D at 0x1c2664a7f0>]"
      ]
     },
     "execution_count": 24,
     "metadata": {},
     "output_type": "execute_result"
    },
    {
     "data": {
      "image/png": "[encoded data removed]",
      "text/plain": [
       "<Figure size 576x288 with 1 Axes>"
      ]
     },
     "metadata": {
      "needs_background": "light"
     },
     "output_type": "display_data"
    }
   ],
   "source": [
    "r_x = stats.plot(x='REB%',y = 'W%',style = 'ro',figsize=(8,4),legend = True, xlim=(30,50),ylim=(0,1))\n",
    "r_x.plot([0,50], [r0, r0+r1*50])"
   ]
  },
  {
   "cell_type": "markdown",
   "metadata": {},
   "source": [
    "As the ast,reb,3P% get higher, win percentage also gets higher. And the 3P%'s influence is much more powerful"
   ]
  },
  {
   "cell_type": "markdown",
   "metadata": {},
   "source": [
    "We use Deterministic to track computed quantities inside the model. "
   ]
  },
  {
   "cell_type": "code",
   "execution_count": 25,
   "metadata": {},
   "outputs": [],
   "source": [
    "from pymc3 import Normal, HalfCauchy, Deterministic, Model\n",
    "\n",
    "with Model() as game_model:\n",
    "    \n",
    "    intercept = Normal('intercept', 0.5, sd=0.1)\n",
    "    slope1 = Normal('slope1', 0, sd=20)\n",
    "    slope2 = Normal('slope2', 0, sd=10)\n",
    "    slope3 = Normal('slope3', 0, sd =10)\n",
    "    slope4 = Normal('slope4', 0, sd=30)\n",
    "    three = Deterministic('three', slope1)\n",
    "    reb = Deterministic('reb', slope2)\n",
    "    ast = Deterministic('ast',slope3)\n",
    "    three_m = Deterministic('three_m',slope4)\n",
    "    σ = HalfCauchy('σ', 1)"
   ]
  },
  {
   "cell_type": "markdown",
   "metadata": {},
   "source": [
    "Now we track expected value `μ`"
   ]
  },
  {
   "cell_type": "code",
   "execution_count": 28,
   "metadata": {},
   "outputs": [],
   "source": [
    "with game_model:\n",
    "    \n",
    "    μ = intercept + slope1*three + slope2*reb + slope3*ast+slope4*three_m\n",
    "    mu_d = Deterministic('mu_d', μ)\n",
    "    score = Normal('score', mu=μ, sd=σ, observed=y)"
   ]
  },
  {
   "cell_type": "markdown",
   "metadata": {},
   "source": [
    "Let's use a Markov chain Monte Carlo algorithm, called NUTS (the No U-Turn Sampler) to eastimate a posterior distribution"
   ]
  },
  {
   "cell_type": "code",
   "execution_count": 29,
   "metadata": {},
   "outputs": [
    {
     "name": "stderr",
     "output_type": "stream",
     "text": [
      "Auto-assigning NUTS sampler...\n",
      "Initializing NUTS using jitter+adapt_diag...\n",
      "Multiprocess sampling (2 chains in 2 jobs)\n",
      "NUTS: [σ, slope4, slope3, slope2, slope1, intercept]\n",
      "Sampling 2 chains: 100%|██████████| 14000/14000 [00:28<00:00, 487.71draws/s]\n"
     ]
    }
   ],
   "source": [
    "from pymc3 import sample\n",
    "\n",
    "with game_model:\n",
    "\n",
    "    game_sample = sample(5000, tune = 2000, random_seed=RANDOM_SEED,\n",
    "                         nuts_kwargs=dict(target_accept=.90))"
   ]
  },
  {
   "cell_type": "markdown",
   "metadata": {},
   "source": [
    "Let's plot posteriors"
   ]
  },
  {
   "cell_type": "code",
   "execution_count": 30,
   "metadata": {},
   "outputs": [
    {
     "data": {
      "image/png": "[encoded data removed]",
      "text/plain": [
       "<Figure size 864x720 with 8 Axes>"
      ]
     },
     "metadata": {
      "needs_background": "light"
     },
     "output_type": "display_data"
    }
   ],
   "source": [
    "from pymc3 import plot_posterior\n",
    "\n",
    "plot_posterior(game_sample[500:], varnames=['intercept', 'three','reb','ast','three_m', 'σ', 'mu_d']);"
   ]
  },
  {
   "cell_type": "markdown",
   "metadata": {},
   "source": [
    "The fitted model can be used to simulate data and the distribution of this simulated data should resemble the distribution of the actual data."
   ]
  },
  {
   "cell_type": "markdown",
   "metadata": {},
   "source": [
    "Sampling from the posterior predictive distribution is straighforward in PyMC3. The sample_ppc function draws posterior predictive checks from all of the data likelihoods."
   ]
  },
  {
   "cell_type": "code",
   "execution_count": 43,
   "metadata": {
    "scrolled": false
   },
   "outputs": [
    {
     "name": "stderr",
     "output_type": "stream",
     "text": [
      "/Users/guoyixin/anaconda3/lib/python3.7/site-packages/ipykernel_launcher.py:5: DeprecationWarning: sample_ppc() is deprecated.  Please use sample_posterior_predictive()\n",
      "  \"\"\"\n",
      "100%|██████████| 5000/5000 [00:02<00:00, 1921.61it/s]\n"
     ]
    }
   ],
   "source": [
    "from pymc3 import sample_ppc\n",
    "\n",
    "with game_model:\n",
    "    \n",
    "    game_ppc = sample_ppc(game_sample, 5000)"
   ]
  },
  {
   "cell_type": "code",
   "execution_count": 44,
   "metadata": {},
   "outputs": [
    {
     "data": {
      "text/plain": [
       "(5000, 21)"
      ]
     },
     "execution_count": 44,
     "metadata": {},
     "output_type": "execute_result"
    }
   ],
   "source": [
    "game_ppc['score'].shape"
   ]
  },
  {
   "cell_type": "markdown",
   "metadata": {},
   "source": [
    "This yields 5000 simulated games corresponding to each of the ten data points in our observation vector."
   ]
  },
  {
   "cell_type": "markdown",
   "metadata": {},
   "source": [
    "We plot 21 histograms hist, one for each of the 5,000 simulations per game. Since each simulation yields different points per game, it makes sense that all these simulations put together yeild a histogram. We know see if the mean points per game for all 5,000 simulations matches the real score of each game, represented by a red line."
   ]
  },
  {
   "cell_type": "code",
   "execution_count": 45,
   "metadata": {
    "scrolled": true
   },
   "outputs": [
    {
     "data": {
      "image/png": "[encoded data removed]",
      "text/plain": [
       "<Figure size 432x288 with 21 Axes>"
      ]
     },
     "metadata": {
      "needs_background": "light"
     },
     "output_type": "display_data"
    }
   ],
   "source": [
    "fig, axes = plt.subplots(7, 3)\n",
    "axes_flat = axes.flatten()\n",
    "\n",
    "for ax, real_data, sim_data in zip(axes_flat[:], y, game_ppc['score'].T):\n",
    "    ax.hist(sim_data, bins=30)\n",
    "    ax.vlines(real_data, *ax.get_ylim(), colors='red')\n",
    "    ax.set_yticklabels([])\n",
    "    sns.despine(left=True)\n",
    "\n",
    "#axes_flat[-1].axis('off')\n",
    "plt.tight_layout()"
   ]
  },
  {
   "cell_type": "code",
   "execution_count": 46,
   "metadata": {},
   "outputs": [
    {
     "data": {
      "text/plain": [
       "array([0.61150896, 0.56485303, 0.62713113, 0.44893481, 0.55885381,\n",
       "       0.50313901, 0.67099161, 0.53320041, 0.54530008, 0.55741187,\n",
       "       0.57127359, 0.5683373 , 0.47334249, 0.63873113, 0.6209331 ,\n",
       "       0.5297623 , 0.50892151, 0.60511601, 0.41204911, 0.70858212,\n",
       "       0.64482081])"
      ]
     },
     "execution_count": 46,
     "metadata": {},
     "output_type": "execute_result"
    }
   ],
   "source": [
    "game_ppc['score'][0]"
   ]
  },
  {
   "cell_type": "code",
   "execution_count": 47,
   "metadata": {},
   "outputs": [
    {
     "data": {
      "text/plain": [
       "10000"
      ]
     },
     "execution_count": 47,
     "metadata": {},
     "output_type": "execute_result"
    }
   ],
   "source": [
    "len(game_sample['σ'])"
   ]
  },
  {
   "cell_type": "markdown",
   "metadata": {},
   "source": [
    "Now let's collect our simulated latent parameters from the simulation, and build our theoretical model with these parameters. The parameters now drive the win percentage, which is what we want.\n",
    "Since the win% is a normal distribution, we enter its mean and its standard deviation as modelled:"
   ]
  },
  {
   "cell_type": "code",
   "execution_count": 51,
   "metadata": {},
   "outputs": [],
   "source": [
    "reb = game_sample['reb']\n",
    "three_m = game_sample['three_m']\n",
    "intercept = game_sample['intercept']\n",
    "three = game_sample['three']\n",
    "ast = game_sample['ast']\n",
    "sigs = game_sample['σ']\n",
    "\n",
    "win_samples = Normal.dist(intercept + three_m + reb +three + ast, sigs).random()\n"
   ]
  },
  {
   "cell_type": "markdown",
   "metadata": {},
   "source": [
    "The mean of win% is:"
   ]
  },
  {
   "cell_type": "code",
   "execution_count": 52,
   "metadata": {},
   "outputs": [
    {
     "data": {
      "text/plain": [
       "0.41709740611884627"
      ]
     },
     "execution_count": 52,
     "metadata": {},
     "output_type": "execute_result"
    }
   ],
   "source": [
    "win_samples.mean()"
   ]
  },
  {
   "cell_type": "code",
   "execution_count": 53,
   "metadata": {
    "scrolled": true
   },
   "outputs": [
    {
     "data": {
      "text/plain": [
       "10000"
      ]
     },
     "execution_count": 53,
     "metadata": {},
     "output_type": "execute_result"
    }
   ],
   "source": [
    "len(win_samples)"
   ]
  },
  {
   "cell_type": "code",
   "execution_count": 54,
   "metadata": {},
   "outputs": [
    {
     "data": {
      "text/plain": [
       "0.205"
      ]
     },
     "execution_count": 54,
     "metadata": {},
     "output_type": "execute_result"
    }
   ],
   "source": [
    "(win_samples > 0.8).mean()"
   ]
  },
  {
   "cell_type": "markdown",
   "metadata": {},
   "source": [
    "Let's increase REB 50%\n",
    "By the way, because we just have 20 season's data(before 1998, NBA is quite different from now), also the factors in game is much more complicated. So we increase them by a wide margin in order to see a more clear result"
   ]
  },
  {
   "cell_type": "code",
   "execution_count": 55,
   "metadata": {},
   "outputs": [],
   "source": [
    "higher_reb = reb*1.5\n",
    "new_win_samples = Normal.dist(intercept + three_m + higher_reb + three + ast, sigs).random()"
   ]
  },
  {
   "cell_type": "code",
   "execution_count": 57,
   "metadata": {},
   "outputs": [
    {
     "data": {
      "text/plain": [
       "0.2347"
      ]
     },
     "execution_count": 57,
     "metadata": {},
     "output_type": "execute_result"
    }
   ],
   "source": [
    "(new_win_samples > 0.8).mean()"
   ]
  },
  {
   "cell_type": "markdown",
   "metadata": {},
   "source": [
    "Win percentage increased! Then we do the same thing to the other three factors"
   ]
  },
  {
   "cell_type": "code",
   "execution_count": 59,
   "metadata": {},
   "outputs": [],
   "source": [
    "higher_three_m = three_m *1.5\n",
    "new_win_samples = Normal.dist(intercept + higher_three_m + reb + three + ast, sigs).random()"
   ]
  },
  {
   "cell_type": "code",
   "execution_count": 60,
   "metadata": {},
   "outputs": [
    {
     "data": {
      "text/plain": [
       "0.2432"
      ]
     },
     "execution_count": 60,
     "metadata": {},
     "output_type": "execute_result"
    }
   ],
   "source": [
    "(new_win_samples > 0.8).mean()"
   ]
  },
  {
   "cell_type": "code",
   "execution_count": 61,
   "metadata": {},
   "outputs": [],
   "source": [
    "higher_ast = ast *1.5\n",
    "new_win_samples = Normal.dist(intercept +three_m + reb + three + higher_ast, sigs).random()"
   ]
  },
  {
   "cell_type": "code",
   "execution_count": 62,
   "metadata": {},
   "outputs": [
    {
     "data": {
      "text/plain": [
       "0.2388"
      ]
     },
     "execution_count": 62,
     "metadata": {},
     "output_type": "execute_result"
    }
   ],
   "source": [
    "(new_win_samples > 0.8).mean()"
   ]
  },
  {
   "cell_type": "code",
   "execution_count": 64,
   "metadata": {},
   "outputs": [],
   "source": [
    "higher_three = three *1.5\n",
    "new_win_samples = Normal.dist(intercept +three_m + reb + higher_three + ast, sigs).random()"
   ]
  },
  {
   "cell_type": "code",
   "execution_count": 65,
   "metadata": {},
   "outputs": [
    {
     "data": {
      "text/plain": [
       "0.2352"
      ]
     },
     "execution_count": 65,
     "metadata": {},
     "output_type": "execute_result"
    }
   ],
   "source": [
    "(new_win_samples > 0.8).mean()"
   ]
  },
  {
   "cell_type": "markdown",
   "metadata": {},
   "source": [
    "We can conclue that by increasing 3P%, 3PM%,Ast%,Reb%, Houston Rockets is able to increase win percentage"
   ]
  },
  {
   "cell_type": "markdown",
   "metadata": {},
   "source": [
    "Now, we are going to lower them"
   ]
  },
  {
   "cell_type": "code",
   "execution_count": 67,
   "metadata": {},
   "outputs": [],
   "source": [
    "lower_reb = reb*0.5\n",
    "new_win_samples = Normal.dist(intercept + three_m + lower_reb + three + ast, sigs).random()"
   ]
  },
  {
   "cell_type": "code",
   "execution_count": 68,
   "metadata": {},
   "outputs": [
    {
     "data": {
      "text/plain": [
       "0.1784"
      ]
     },
     "execution_count": 68,
     "metadata": {},
     "output_type": "execute_result"
    }
   ],
   "source": [
    "(new_win_samples > 0.8).mean()"
   ]
  },
  {
   "cell_type": "code",
   "execution_count": 69,
   "metadata": {},
   "outputs": [],
   "source": [
    "lower_ast = ast*0.5\n",
    "new_win_samples = Normal.dist(intercept + three_m + lower_ast + three + reb, sigs).random()"
   ]
  },
  {
   "cell_type": "code",
   "execution_count": 70,
   "metadata": {},
   "outputs": [
    {
     "data": {
      "text/plain": [
       "0.1774"
      ]
     },
     "execution_count": 70,
     "metadata": {},
     "output_type": "execute_result"
    }
   ],
   "source": [
    "(new_win_samples > 0.8).mean()"
   ]
  },
  {
   "cell_type": "code",
   "execution_count": 71,
   "metadata": {},
   "outputs": [],
   "source": [
    "lower_three= three*0.5\n",
    "new_win_samples = Normal.dist(intercept + three_m + lower_three + ast + reb, sigs).random()"
   ]
  },
  {
   "cell_type": "code",
   "execution_count": 72,
   "metadata": {},
   "outputs": [
    {
     "data": {
      "text/plain": [
       "0.1761"
      ]
     },
     "execution_count": 72,
     "metadata": {},
     "output_type": "execute_result"
    }
   ],
   "source": [
    "(new_win_samples > 0.8).mean()"
   ]
  },
  {
   "cell_type": "code",
   "execution_count": 75,
   "metadata": {},
   "outputs": [],
   "source": [
    "lower_three_m = three_m *0.5\n",
    "new_win_samples = Normal.dist(intercept + lower_three_m + reb + three + ast, sigs).random()"
   ]
  },
  {
   "cell_type": "code",
   "execution_count": 76,
   "metadata": {},
   "outputs": [
    {
     "data": {
      "text/plain": [
       "0.1771"
      ]
     },
     "execution_count": 76,
     "metadata": {},
     "output_type": "execute_result"
    }
   ],
   "source": [
    "(new_win_samples > 0.8).mean()"
   ]
  },
  {
   "cell_type": "markdown",
   "metadata": {},
   "source": [
    "As the factors get lower, win percentage gets lower too!\n",
    "We did it!"
   ]
  }
 ],
 "metadata": {
  "kernelspec": {
   "display_name": "Python 3",
   "language": "python",
   "name": "python3"
  },
  "language_info": {
   "codemirror_mode": {
    "name": "ipython",
    "version": 3
   },
   "file_extension": ".py",
   "mimetype": "text/x-python",
   "name": "python",
   "nbconvert_exporter": "python",
   "pygments_lexer": "ipython3",
   "version": "3.6.8"
  }
 },
 "nbformat": 4,
 "nbformat_minor": 2
}
